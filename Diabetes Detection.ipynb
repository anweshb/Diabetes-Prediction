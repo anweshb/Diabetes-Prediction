{
 "cells": [
  {
   "cell_type": "code",
   "execution_count": 1,
   "metadata": {},
   "outputs": [],
   "source": [
    "import numpy as np\n",
    "import pandas as pd\n",
    "import matplotlib.pyplot as plt\n",
    "import seaborn as sns\n",
    "from sklearn.model_selection import train_test_split\n",
    "from sklearn.preprocessing import MinMaxScaler"
   ]
  },
  {
   "cell_type": "code",
   "execution_count": 2,
   "metadata": {},
   "outputs": [],
   "source": [
    "df = pd.read_csv('diabetes.csv')"
   ]
  },
  {
   "cell_type": "code",
   "execution_count": 3,
   "metadata": {},
   "outputs": [
    {
     "data": {
      "text/html": [
       "<div>\n",
       "<style scoped>\n",
       "    .dataframe tbody tr th:only-of-type {\n",
       "        vertical-align: middle;\n",
       "    }\n",
       "\n",
       "    .dataframe tbody tr th {\n",
       "        vertical-align: top;\n",
       "    }\n",
       "\n",
       "    .dataframe thead th {\n",
       "        text-align: right;\n",
       "    }\n",
       "</style>\n",
       "<table border=\"1\" class=\"dataframe\">\n",
       "  <thead>\n",
       "    <tr style=\"text-align: right;\">\n",
       "      <th></th>\n",
       "      <th>Pregnancies</th>\n",
       "      <th>Glucose</th>\n",
       "      <th>BloodPressure</th>\n",
       "      <th>SkinThickness</th>\n",
       "      <th>Insulin</th>\n",
       "      <th>BMI</th>\n",
       "      <th>DiabetesPedigreeFunction</th>\n",
       "      <th>Age</th>\n",
       "      <th>Outcome</th>\n",
       "    </tr>\n",
       "  </thead>\n",
       "  <tbody>\n",
       "    <tr>\n",
       "      <th>0</th>\n",
       "      <td>6</td>\n",
       "      <td>148</td>\n",
       "      <td>72</td>\n",
       "      <td>35</td>\n",
       "      <td>0</td>\n",
       "      <td>33.6</td>\n",
       "      <td>0.627</td>\n",
       "      <td>50</td>\n",
       "      <td>1</td>\n",
       "    </tr>\n",
       "    <tr>\n",
       "      <th>1</th>\n",
       "      <td>1</td>\n",
       "      <td>85</td>\n",
       "      <td>66</td>\n",
       "      <td>29</td>\n",
       "      <td>0</td>\n",
       "      <td>26.6</td>\n",
       "      <td>0.351</td>\n",
       "      <td>31</td>\n",
       "      <td>0</td>\n",
       "    </tr>\n",
       "    <tr>\n",
       "      <th>2</th>\n",
       "      <td>8</td>\n",
       "      <td>183</td>\n",
       "      <td>64</td>\n",
       "      <td>0</td>\n",
       "      <td>0</td>\n",
       "      <td>23.3</td>\n",
       "      <td>0.672</td>\n",
       "      <td>32</td>\n",
       "      <td>1</td>\n",
       "    </tr>\n",
       "    <tr>\n",
       "      <th>3</th>\n",
       "      <td>1</td>\n",
       "      <td>89</td>\n",
       "      <td>66</td>\n",
       "      <td>23</td>\n",
       "      <td>94</td>\n",
       "      <td>28.1</td>\n",
       "      <td>0.167</td>\n",
       "      <td>21</td>\n",
       "      <td>0</td>\n",
       "    </tr>\n",
       "    <tr>\n",
       "      <th>4</th>\n",
       "      <td>0</td>\n",
       "      <td>137</td>\n",
       "      <td>40</td>\n",
       "      <td>35</td>\n",
       "      <td>168</td>\n",
       "      <td>43.1</td>\n",
       "      <td>2.288</td>\n",
       "      <td>33</td>\n",
       "      <td>1</td>\n",
       "    </tr>\n",
       "  </tbody>\n",
       "</table>\n",
       "</div>"
      ],
      "text/plain": [
       "   Pregnancies  Glucose  BloodPressure  SkinThickness  Insulin   BMI  \\\n",
       "0            6      148             72             35        0  33.6   \n",
       "1            1       85             66             29        0  26.6   \n",
       "2            8      183             64              0        0  23.3   \n",
       "3            1       89             66             23       94  28.1   \n",
       "4            0      137             40             35      168  43.1   \n",
       "\n",
       "   DiabetesPedigreeFunction  Age  Outcome  \n",
       "0                     0.627   50        1  \n",
       "1                     0.351   31        0  \n",
       "2                     0.672   32        1  \n",
       "3                     0.167   21        0  \n",
       "4                     2.288   33        1  "
      ]
     },
     "execution_count": 3,
     "metadata": {},
     "output_type": "execute_result"
    }
   ],
   "source": [
    "df.head()"
   ]
  },
  {
   "cell_type": "code",
   "execution_count": 4,
   "metadata": {},
   "outputs": [
    {
     "data": {
      "text/html": [
       "<div>\n",
       "<style scoped>\n",
       "    .dataframe tbody tr th:only-of-type {\n",
       "        vertical-align: middle;\n",
       "    }\n",
       "\n",
       "    .dataframe tbody tr th {\n",
       "        vertical-align: top;\n",
       "    }\n",
       "\n",
       "    .dataframe thead th {\n",
       "        text-align: right;\n",
       "    }\n",
       "</style>\n",
       "<table border=\"1\" class=\"dataframe\">\n",
       "  <thead>\n",
       "    <tr style=\"text-align: right;\">\n",
       "      <th></th>\n",
       "      <th>count</th>\n",
       "      <th>mean</th>\n",
       "      <th>std</th>\n",
       "      <th>min</th>\n",
       "      <th>25%</th>\n",
       "      <th>50%</th>\n",
       "      <th>75%</th>\n",
       "      <th>max</th>\n",
       "    </tr>\n",
       "  </thead>\n",
       "  <tbody>\n",
       "    <tr>\n",
       "      <th>Pregnancies</th>\n",
       "      <td>768.0</td>\n",
       "      <td>3.845052</td>\n",
       "      <td>3.369578</td>\n",
       "      <td>0.000</td>\n",
       "      <td>1.00000</td>\n",
       "      <td>3.0000</td>\n",
       "      <td>6.00000</td>\n",
       "      <td>17.00</td>\n",
       "    </tr>\n",
       "    <tr>\n",
       "      <th>Glucose</th>\n",
       "      <td>768.0</td>\n",
       "      <td>120.894531</td>\n",
       "      <td>31.972618</td>\n",
       "      <td>0.000</td>\n",
       "      <td>99.00000</td>\n",
       "      <td>117.0000</td>\n",
       "      <td>140.25000</td>\n",
       "      <td>199.00</td>\n",
       "    </tr>\n",
       "    <tr>\n",
       "      <th>BloodPressure</th>\n",
       "      <td>768.0</td>\n",
       "      <td>69.105469</td>\n",
       "      <td>19.355807</td>\n",
       "      <td>0.000</td>\n",
       "      <td>62.00000</td>\n",
       "      <td>72.0000</td>\n",
       "      <td>80.00000</td>\n",
       "      <td>122.00</td>\n",
       "    </tr>\n",
       "    <tr>\n",
       "      <th>SkinThickness</th>\n",
       "      <td>768.0</td>\n",
       "      <td>20.536458</td>\n",
       "      <td>15.952218</td>\n",
       "      <td>0.000</td>\n",
       "      <td>0.00000</td>\n",
       "      <td>23.0000</td>\n",
       "      <td>32.00000</td>\n",
       "      <td>99.00</td>\n",
       "    </tr>\n",
       "    <tr>\n",
       "      <th>Insulin</th>\n",
       "      <td>768.0</td>\n",
       "      <td>79.799479</td>\n",
       "      <td>115.244002</td>\n",
       "      <td>0.000</td>\n",
       "      <td>0.00000</td>\n",
       "      <td>30.5000</td>\n",
       "      <td>127.25000</td>\n",
       "      <td>846.00</td>\n",
       "    </tr>\n",
       "    <tr>\n",
       "      <th>BMI</th>\n",
       "      <td>768.0</td>\n",
       "      <td>31.992578</td>\n",
       "      <td>7.884160</td>\n",
       "      <td>0.000</td>\n",
       "      <td>27.30000</td>\n",
       "      <td>32.0000</td>\n",
       "      <td>36.60000</td>\n",
       "      <td>67.10</td>\n",
       "    </tr>\n",
       "    <tr>\n",
       "      <th>DiabetesPedigreeFunction</th>\n",
       "      <td>768.0</td>\n",
       "      <td>0.471876</td>\n",
       "      <td>0.331329</td>\n",
       "      <td>0.078</td>\n",
       "      <td>0.24375</td>\n",
       "      <td>0.3725</td>\n",
       "      <td>0.62625</td>\n",
       "      <td>2.42</td>\n",
       "    </tr>\n",
       "    <tr>\n",
       "      <th>Age</th>\n",
       "      <td>768.0</td>\n",
       "      <td>33.240885</td>\n",
       "      <td>11.760232</td>\n",
       "      <td>21.000</td>\n",
       "      <td>24.00000</td>\n",
       "      <td>29.0000</td>\n",
       "      <td>41.00000</td>\n",
       "      <td>81.00</td>\n",
       "    </tr>\n",
       "    <tr>\n",
       "      <th>Outcome</th>\n",
       "      <td>768.0</td>\n",
       "      <td>0.348958</td>\n",
       "      <td>0.476951</td>\n",
       "      <td>0.000</td>\n",
       "      <td>0.00000</td>\n",
       "      <td>0.0000</td>\n",
       "      <td>1.00000</td>\n",
       "      <td>1.00</td>\n",
       "    </tr>\n",
       "  </tbody>\n",
       "</table>\n",
       "</div>"
      ],
      "text/plain": [
       "                          count        mean         std     min       25%  \\\n",
       "Pregnancies               768.0    3.845052    3.369578   0.000   1.00000   \n",
       "Glucose                   768.0  120.894531   31.972618   0.000  99.00000   \n",
       "BloodPressure             768.0   69.105469   19.355807   0.000  62.00000   \n",
       "SkinThickness             768.0   20.536458   15.952218   0.000   0.00000   \n",
       "Insulin                   768.0   79.799479  115.244002   0.000   0.00000   \n",
       "BMI                       768.0   31.992578    7.884160   0.000  27.30000   \n",
       "DiabetesPedigreeFunction  768.0    0.471876    0.331329   0.078   0.24375   \n",
       "Age                       768.0   33.240885   11.760232  21.000  24.00000   \n",
       "Outcome                   768.0    0.348958    0.476951   0.000   0.00000   \n",
       "\n",
       "                               50%        75%     max  \n",
       "Pregnancies                 3.0000    6.00000   17.00  \n",
       "Glucose                   117.0000  140.25000  199.00  \n",
       "BloodPressure              72.0000   80.00000  122.00  \n",
       "SkinThickness              23.0000   32.00000   99.00  \n",
       "Insulin                    30.5000  127.25000  846.00  \n",
       "BMI                        32.0000   36.60000   67.10  \n",
       "DiabetesPedigreeFunction    0.3725    0.62625    2.42  \n",
       "Age                        29.0000   41.00000   81.00  \n",
       "Outcome                     0.0000    1.00000    1.00  "
      ]
     },
     "execution_count": 4,
     "metadata": {},
     "output_type": "execute_result"
    }
   ],
   "source": [
    "df.describe().transpose()"
   ]
  },
  {
   "cell_type": "code",
   "execution_count": 5,
   "metadata": {},
   "outputs": [
    {
     "name": "stdout",
     "output_type": "stream",
     "text": [
      "<class 'pandas.core.frame.DataFrame'>\n",
      "RangeIndex: 768 entries, 0 to 767\n",
      "Data columns (total 9 columns):\n",
      " #   Column                    Non-Null Count  Dtype  \n",
      "---  ------                    --------------  -----  \n",
      " 0   Pregnancies               768 non-null    int64  \n",
      " 1   Glucose                   768 non-null    int64  \n",
      " 2   BloodPressure             768 non-null    int64  \n",
      " 3   SkinThickness             768 non-null    int64  \n",
      " 4   Insulin                   768 non-null    int64  \n",
      " 5   BMI                       768 non-null    float64\n",
      " 6   DiabetesPedigreeFunction  768 non-null    float64\n",
      " 7   Age                       768 non-null    int64  \n",
      " 8   Outcome                   768 non-null    int64  \n",
      "dtypes: float64(2), int64(7)\n",
      "memory usage: 54.1 KB\n"
     ]
    }
   ],
   "source": [
    "df.info()"
   ]
  },
  {
   "cell_type": "code",
   "execution_count": 6,
   "metadata": {},
   "outputs": [
    {
     "data": {
      "text/plain": [
       "<matplotlib.axes._subplots.AxesSubplot at 0x16faca65d88>"
      ]
     },
     "execution_count": 6,
     "metadata": {},
     "output_type": "execute_result"
    },
    {
     "data": {
      "image/png": "[encoded data removed]",
      "text/plain": [
       "<Figure size 1008x576 with 2 Axes>"
      ]
     },
     "metadata": {
      "needs_background": "light"
     },
     "output_type": "display_data"
    }
   ],
   "source": [
    "plt.figure(figsize=(14,8))\n",
    "corr = df.corr()\n",
    "sns.heatmap(corr,cmap='viridis',annot=True)"
   ]
  },
  {
   "cell_type": "code",
   "execution_count": 7,
   "metadata": {},
   "outputs": [
    {
     "data": {
      "text/plain": [
       "<matplotlib.axes._subplots.AxesSubplot at 0x16face355c8>"
      ]
     },
     "execution_count": 7,
     "metadata": {},
     "output_type": "execute_result"
    },
    {
     "data": {
      "image/png": "[encoded data removed]",
      "text/plain": [
       "<Figure size 720x576 with 1 Axes>"
      ]
     },
     "metadata": {
      "needs_background": "light"
     },
     "output_type": "display_data"
    }
   ],
   "source": [
    "plt.figure(figsize=(10,8))\n",
    "sns.countplot(df['Outcome'])"
   ]
  },
  {
   "cell_type": "code",
   "execution_count": 8,
   "metadata": {},
   "outputs": [
    {
     "data": {
      "text/plain": [
       "<matplotlib.axes._subplots.AxesSubplot at 0x16fad181ac8>"
      ]
     },
     "execution_count": 8,
     "metadata": {},
     "output_type": "execute_result"
    },
    {
     "data": {
      "image/png": "[encoded data removed]",
      "text/plain": [
       "<Figure size 1152x576 with 1 Axes>"
      ]
     },
     "metadata": {
      "needs_background": "light"
     },
     "output_type": "display_data"
    }
   ],
   "source": [
    "plt.figure(figsize=(16,8))\n",
    "sns.countplot(df['Pregnancies'])"
   ]
  },
  {
   "cell_type": "code",
   "execution_count": 9,
   "metadata": {},
   "outputs": [
    {
     "data": {
      "text/plain": [
       "1"
      ]
     },
     "execution_count": 9,
     "metadata": {},
     "output_type": "execute_result"
    }
   ],
   "source": [
    "(df['Pregnancies'] == 17).sum()"
   ]
  },
  {
   "cell_type": "code",
   "execution_count": 10,
   "metadata": {},
   "outputs": [
    {
     "data": {
      "text/plain": [
       "2"
      ]
     },
     "execution_count": 10,
     "metadata": {},
     "output_type": "execute_result"
    }
   ],
   "source": [
    "(df['Pregnancies'] == 14).sum()"
   ]
  },
  {
   "cell_type": "code",
   "execution_count": 11,
   "metadata": {},
   "outputs": [
    {
     "data": {
      "text/plain": [
       "<matplotlib.axes._subplots.AxesSubplot at 0x16facec6a88>"
      ]
     },
     "execution_count": 11,
     "metadata": {},
     "output_type": "execute_result"
    },
    {
     "data": {
      "image/png": "[encoded data removed]",
      "text/plain": [
       "<Figure size 720x576 with 1 Axes>"
      ]
     },
     "metadata": {
      "needs_background": "light"
     },
     "output_type": "display_data"
    }
   ],
   "source": [
    "plt.figure(figsize=(10,8))\n",
    "sns.barplot(x='Outcome',y='Glucose',data=df)"
   ]
  },
  {
   "cell_type": "code",
   "execution_count": 12,
   "metadata": {},
   "outputs": [
    {
     "data": {
      "text/plain": [
       "<matplotlib.axes._subplots.AxesSubplot at 0x16facf21608>"
      ]
     },
     "execution_count": 12,
     "metadata": {},
     "output_type": "execute_result"
    },
    {
     "data": {
      "image/png": "[encoded data removed]",
      "text/plain": [
       "<Figure size 720x576 with 1 Axes>"
      ]
     },
     "metadata": {
      "needs_background": "light"
     },
     "output_type": "display_data"
    }
   ],
   "source": [
    "plt.figure(figsize=(10,8))\n",
    "sns.boxplot(x='Outcome',y='Glucose',data=df)"
   ]
  },
  {
   "cell_type": "code",
   "execution_count": 13,
   "metadata": {},
   "outputs": [
    {
     "data": {
      "text/plain": [
       "<matplotlib.axes._subplots.AxesSubplot at 0x16fad010ec8>"
      ]
     },
     "execution_count": 13,
     "metadata": {},
     "output_type": "execute_result"
    },
    {
     "data": {
      "image/png": "[encoded data removed]",
      "text/plain": [
       "<Figure size 720x576 with 1 Axes>"
      ]
     },
     "metadata": {
      "needs_background": "light"
     },
     "output_type": "display_data"
    }
   ],
   "source": [
    "plt.figure(figsize=(10,8))\n",
    "sns.barplot(x='Outcome',y='Age',data=df)"
   ]
  },
  {
   "cell_type": "code",
   "execution_count": 14,
   "metadata": {},
   "outputs": [],
   "source": [
    "X = df.drop('Outcome',axis=1).values\n",
    "y = df['Outcome'].values"
   ]
  },
  {
   "cell_type": "code",
   "execution_count": 15,
   "metadata": {},
   "outputs": [],
   "source": [
    " X_train, X_test, y_train, y_test = train_test_split(X, y, test_size=0.2, random_state=42)"
   ]
  },
  {
   "cell_type": "code",
   "execution_count": 16,
   "metadata": {},
   "outputs": [],
   "source": [
    "scaler = MinMaxScaler()"
   ]
  },
  {
   "cell_type": "code",
   "execution_count": 17,
   "metadata": {},
   "outputs": [],
   "source": [
    "X_train = scaler.fit_transform(X_train)"
   ]
  },
  {
   "cell_type": "code",
   "execution_count": 18,
   "metadata": {},
   "outputs": [],
   "source": [
    "X_test = scaler.transform(X_test)"
   ]
  },
  {
   "cell_type": "code",
   "execution_count": 19,
   "metadata": {},
   "outputs": [],
   "source": [
    "from tensorflow.keras.models import Sequential"
   ]
  },
  {
   "cell_type": "code",
   "execution_count": 20,
   "metadata": {},
   "outputs": [],
   "source": [
    "from tensorflow.keras.layers import Dense"
   ]
  },
  {
   "cell_type": "code",
   "execution_count": 21,
   "metadata": {},
   "outputs": [
    {
     "data": {
      "text/plain": [
       "(614, 8)"
      ]
     },
     "execution_count": 21,
     "metadata": {},
     "output_type": "execute_result"
    }
   ],
   "source": [
    "X_train.shape"
   ]
  },
  {
   "cell_type": "code",
   "execution_count": 22,
   "metadata": {},
   "outputs": [],
   "source": [
    "model = Sequential()\n",
    "\n",
    "model.add(Dense(8,activation='relu'))\n",
    "model.add(Dense(8,activation='relu'))\n",
    "model.add(Dense(8,activation='relu'))\n",
    "model.add(Dense(4,activation='relu'))\n",
    "model.add(Dense(4,activation='relu'))\n",
    "model.add(Dense(1,activation='sigmoid'))"
   ]
  },
  {
   "cell_type": "code",
   "execution_count": 23,
   "metadata": {},
   "outputs": [],
   "source": [
    "from tensorflow.keras.callbacks import EarlyStopping"
   ]
  },
  {
   "cell_type": "code",
   "execution_count": 24,
   "metadata": {},
   "outputs": [],
   "source": [
    "stop = EarlyStopping(patience=5)"
   ]
  },
  {
   "cell_type": "code",
   "execution_count": 25,
   "metadata": {},
   "outputs": [],
   "source": [
    "model.compile(optimizer='adam',loss='binary_crossentropy')"
   ]
  },
  {
   "cell_type": "code",
   "execution_count": 26,
   "metadata": {},
   "outputs": [
    {
     "name": "stdout",
     "output_type": "stream",
     "text": [
      "Train on 614 samples, validate on 154 samples\n",
      "Epoch 1/200\n",
      "614/614 [==============================] - 1s 2ms/sample - loss: 0.6911 - val_loss: 0.6894\n",
      "Epoch 2/200\n",
      "614/614 [==============================] - 0s 162us/sample - loss: 0.6872 - val_loss: 0.6858\n",
      "Epoch 3/200\n",
      "614/614 [==============================] - 0s 163us/sample - loss: 0.6833 - val_loss: 0.6820\n",
      "Epoch 4/200\n",
      "614/614 [==============================] - 0s 151us/sample - loss: 0.6792 - val_loss: 0.6783\n",
      "Epoch 5/200\n",
      "614/614 [==============================] - 0s 150us/sample - loss: 0.6747 - val_loss: 0.6734\n",
      "Epoch 6/200\n",
      "614/614 [==============================] - 0s 175us/sample - loss: 0.6687 - val_loss: 0.6688\n",
      "Epoch 7/200\n",
      "614/614 [==============================] - 0s 169us/sample - loss: 0.6625 - val_loss: 0.6645\n",
      "Epoch 8/200\n",
      "614/614 [==============================] - 0s 157us/sample - loss: 0.6587 - val_loss: 0.6617\n",
      "Epoch 9/200\n",
      "614/614 [==============================] - 0s 153us/sample - loss: 0.6556 - val_loss: 0.6611\n",
      "Epoch 10/200\n",
      "614/614 [==============================] - 0s 163us/sample - loss: 0.6539 - val_loss: 0.6604\n",
      "Epoch 11/200\n",
      "614/614 [==============================] - 0s 207us/sample - loss: 0.6529 - val_loss: 0.6600\n",
      "Epoch 12/200\n",
      "614/614 [==============================] - 0s 189us/sample - loss: 0.6519 - val_loss: 0.6592\n",
      "Epoch 13/200\n",
      "614/614 [==============================] - 0s 192us/sample - loss: 0.6512 - val_loss: 0.6588\n",
      "Epoch 14/200\n",
      "614/614 [==============================] - 0s 151us/sample - loss: 0.6510 - val_loss: 0.6586\n",
      "Epoch 15/200\n",
      "614/614 [==============================] - 0s 160us/sample - loss: 0.6497 - val_loss: 0.6579\n",
      "Epoch 16/200\n",
      "614/614 [==============================] - 0s 157us/sample - loss: 0.6493 - val_loss: 0.6573\n",
      "Epoch 17/200\n",
      "614/614 [==============================] - 0s 164us/sample - loss: 0.6487 - val_loss: 0.6565\n",
      "Epoch 18/200\n",
      "614/614 [==============================] - 0s 154us/sample - loss: 0.6486 - val_loss: 0.6562\n",
      "Epoch 19/200\n",
      "614/614 [==============================] - 0s 151us/sample - loss: 0.6469 - val_loss: 0.6557\n",
      "Epoch 20/200\n",
      "614/614 [==============================] - 0s 171us/sample - loss: 0.6461 - val_loss: 0.6548\n",
      "Epoch 21/200\n",
      "614/614 [==============================] - 0s 188us/sample - loss: 0.6455 - val_loss: 0.6542\n",
      "Epoch 22/200\n",
      "614/614 [==============================] - 0s 158us/sample - loss: 0.6447 - val_loss: 0.6537\n",
      "Epoch 23/200\n",
      "614/614 [==============================] - 0s 156us/sample - loss: 0.6435 - val_loss: 0.6528\n",
      "Epoch 24/200\n",
      "614/614 [==============================] - 0s 160us/sample - loss: 0.6427 - val_loss: 0.6519\n",
      "Epoch 25/200\n",
      "614/614 [==============================] - 0s 161us/sample - loss: 0.6415 - val_loss: 0.6514\n",
      "Epoch 26/200\n",
      "614/614 [==============================] - 0s 165us/sample - loss: 0.6401 - val_loss: 0.6505\n",
      "Epoch 27/200\n",
      "614/614 [==============================] - 0s 158us/sample - loss: 0.6387 - val_loss: 0.6491\n",
      "Epoch 28/200\n",
      "614/614 [==============================] - 0s 190us/sample - loss: 0.6370 - val_loss: 0.6481\n",
      "Epoch 29/200\n",
      "614/614 [==============================] - 0s 189us/sample - loss: 0.6353 - val_loss: 0.6473\n",
      "Epoch 30/200\n",
      "614/614 [==============================] - 0s 188us/sample - loss: 0.6337 - val_loss: 0.6452\n",
      "Epoch 31/200\n",
      "614/614 [==============================] - 0s 158us/sample - loss: 0.6310 - val_loss: 0.6436\n",
      "Epoch 32/200\n",
      "614/614 [==============================] - 0s 156us/sample - loss: 0.6285 - val_loss: 0.6413\n",
      "Epoch 33/200\n",
      "614/614 [==============================] - 0s 163us/sample - loss: 0.6256 - val_loss: 0.6393\n",
      "Epoch 34/200\n",
      "614/614 [==============================] - 0s 165us/sample - loss: 0.6231 - val_loss: 0.6366\n",
      "Epoch 35/200\n",
      "614/614 [==============================] - 0s 153us/sample - loss: 0.6197 - val_loss: 0.6338\n",
      "Epoch 36/200\n",
      "614/614 [==============================] - 0s 153us/sample - loss: 0.6142 - val_loss: 0.6300\n",
      "Epoch 37/200\n",
      "614/614 [==============================] - 0s 168us/sample - loss: 0.6059 - val_loss: 0.6266\n",
      "Epoch 38/200\n",
      "614/614 [==============================] - 0s 178us/sample - loss: 0.6005 - val_loss: 0.6234\n",
      "Epoch 39/200\n",
      "614/614 [==============================] - 0s 181us/sample - loss: 0.5962 - val_loss: 0.6189\n",
      "Epoch 40/200\n",
      "614/614 [==============================] - 0s 168us/sample - loss: 0.5913 - val_loss: 0.6162\n",
      "Epoch 41/200\n",
      "614/614 [==============================] - 0s 151us/sample - loss: 0.5849 - val_loss: 0.6091\n",
      "Epoch 42/200\n",
      "614/614 [==============================] - 0s 157us/sample - loss: 0.5808 - val_loss: 0.6068\n",
      "Epoch 43/200\n",
      "614/614 [==============================] - 0s 156us/sample - loss: 0.5756 - val_loss: 0.5992\n",
      "Epoch 44/200\n",
      "614/614 [==============================] - 0s 165us/sample - loss: 0.5718 - val_loss: 0.5946\n",
      "Epoch 45/200\n",
      "614/614 [==============================] - 0s 157us/sample - loss: 0.5669 - val_loss: 0.5908\n",
      "Epoch 46/200\n",
      "614/614 [==============================] - 0s 158us/sample - loss: 0.5617 - val_loss: 0.5836\n",
      "Epoch 47/200\n",
      "614/614 [==============================] - 0s 163us/sample - loss: 0.5579 - val_loss: 0.5770\n",
      "Epoch 48/200\n",
      "614/614 [==============================] - 0s 153us/sample - loss: 0.5518 - val_loss: 0.5721\n",
      "Epoch 49/200\n",
      "614/614 [==============================] - 0s 150us/sample - loss: 0.5472 - val_loss: 0.5695\n",
      "Epoch 50/200\n",
      "614/614 [==============================] - 0s 165us/sample - loss: 0.5421 - val_loss: 0.5618\n",
      "Epoch 51/200\n",
      "614/614 [==============================] - 0s 169us/sample - loss: 0.5424 - val_loss: 0.5570\n",
      "Epoch 52/200\n",
      "614/614 [==============================] - 0s 155us/sample - loss: 0.5342 - val_loss: 0.5530\n",
      "Epoch 53/200\n",
      "614/614 [==============================] - 0s 161us/sample - loss: 0.5317 - val_loss: 0.5555\n",
      "Epoch 54/200\n",
      "614/614 [==============================] - 0s 158us/sample - loss: 0.5290 - val_loss: 0.5470\n",
      "Epoch 55/200\n",
      "614/614 [==============================] - 0s 155us/sample - loss: 0.5241 - val_loss: 0.5491\n",
      "Epoch 56/200\n",
      "614/614 [==============================] - 0s 151us/sample - loss: 0.5232 - val_loss: 0.5437\n",
      "Epoch 57/200\n",
      "614/614 [==============================] - 0s 160us/sample - loss: 0.5172 - val_loss: 0.5435\n",
      "Epoch 58/200\n",
      "614/614 [==============================] - 0s 143us/sample - loss: 0.5130 - val_loss: 0.5407\n",
      "Epoch 59/200\n",
      "614/614 [==============================] - 0s 149us/sample - loss: 0.5161 - val_loss: 0.5464\n",
      "Epoch 60/200\n",
      "614/614 [==============================] - 0s 156us/sample - loss: 0.5111 - val_loss: 0.5404\n",
      "Epoch 61/200\n",
      "614/614 [==============================] - 0s 156us/sample - loss: 0.5070 - val_loss: 0.5356\n",
      "Epoch 62/200\n",
      "614/614 [==============================] - 0s 162us/sample - loss: 0.5062 - val_loss: 0.5365\n",
      "Epoch 63/200\n",
      "614/614 [==============================] - 0s 156us/sample - loss: 0.5060 - val_loss: 0.5388\n",
      "Epoch 64/200\n",
      "614/614 [==============================] - 0s 150us/sample - loss: 0.5001 - val_loss: 0.5340\n",
      "Epoch 65/200\n",
      "614/614 [==============================] - 0s 154us/sample - loss: 0.4975 - val_loss: 0.5337\n",
      "Epoch 66/200\n",
      "614/614 [==============================] - 0s 153us/sample - loss: 0.4962 - val_loss: 0.5345\n",
      "Epoch 67/200\n",
      "614/614 [==============================] - 0s 154us/sample - loss: 0.4947 - val_loss: 0.5338\n",
      "Epoch 68/200\n",
      "614/614 [==============================] - 0s 159us/sample - loss: 0.4934 - val_loss: 0.5301\n",
      "Epoch 69/200\n",
      "614/614 [==============================] - 0s 154us/sample - loss: 0.4906 - val_loss: 0.5316\n",
      "Epoch 70/200\n",
      "614/614 [==============================] - 0s 173us/sample - loss: 0.4905 - val_loss: 0.5349\n",
      "Epoch 71/200\n",
      "614/614 [==============================] - 0s 159us/sample - loss: 0.4877 - val_loss: 0.5301\n",
      "Epoch 72/200\n",
      "614/614 [==============================] - 0s 147us/sample - loss: 0.4873 - val_loss: 0.5325\n",
      "Epoch 73/200\n",
      "614/614 [==============================] - 0s 147us/sample - loss: 0.4863 - val_loss: 0.5304\n",
      "Epoch 74/200\n",
      "614/614 [==============================] - 0s 177us/sample - loss: 0.4840 - val_loss: 0.5273\n",
      "Epoch 75/200\n",
      "614/614 [==============================] - 0s 151us/sample - loss: 0.4837 - val_loss: 0.5275\n",
      "Epoch 76/200\n",
      "614/614 [==============================] - 0s 158us/sample - loss: 0.4853 - val_loss: 0.5303\n",
      "Epoch 77/200\n",
      "614/614 [==============================] - 0s 159us/sample - loss: 0.4810 - val_loss: 0.5267\n"
     ]
    },
    {
     "name": "stdout",
     "output_type": "stream",
     "text": [
      "Epoch 78/200\n",
      "614/614 [==============================] - 0s 154us/sample - loss: 0.4815 - val_loss: 0.5287\n",
      "Epoch 79/200\n",
      "614/614 [==============================] - 0s 159us/sample - loss: 0.4833 - val_loss: 0.5281\n",
      "Epoch 80/200\n",
      "614/614 [==============================] - 0s 150us/sample - loss: 0.4788 - val_loss: 0.5255\n",
      "Epoch 81/200\n",
      "614/614 [==============================] - 0s 152us/sample - loss: 0.4789 - val_loss: 0.5245\n",
      "Epoch 82/200\n",
      "614/614 [==============================] - 0s 148us/sample - loss: 0.4790 - val_loss: 0.5312\n",
      "Epoch 83/200\n",
      "614/614 [==============================] - 0s 145us/sample - loss: 0.4821 - val_loss: 0.5258\n",
      "Epoch 84/200\n",
      "614/614 [==============================] - 0s 146us/sample - loss: 0.4775 - val_loss: 0.5282\n",
      "Epoch 85/200\n",
      "614/614 [==============================] - 0s 162us/sample - loss: 0.4782 - val_loss: 0.5275\n",
      "Epoch 86/200\n",
      "614/614 [==============================] - 0s 146us/sample - loss: 0.4789 - val_loss: 0.5251\n"
     ]
    },
    {
     "data": {
      "text/plain": [
       "<tensorflow.python.keras.callbacks.History at 0x170e7c5b088>"
      ]
     },
     "execution_count": 26,
     "metadata": {},
     "output_type": "execute_result"
    }
   ],
   "source": [
    "model.fit(X_train,y_train,\n",
    "        epochs=200,\n",
    "        validation_data=(X_test,y_test),\n",
    "        callbacks=[stop])"
   ]
  },
  {
   "cell_type": "code",
   "execution_count": 27,
   "metadata": {},
   "outputs": [
    {
     "name": "stdout",
     "output_type": "stream",
     "text": [
      "Model: \"sequential\"\n",
      "_________________________________________________________________\n",
      "Layer (type)                 Output Shape              Param #   \n",
      "=================================================================\n",
      "dense (Dense)                multiple                  72        \n",
      "_________________________________________________________________\n",
      "dense_1 (Dense)              multiple                  72        \n",
      "_________________________________________________________________\n",
      "dense_2 (Dense)              multiple                  72        \n",
      "_________________________________________________________________\n",
      "dense_3 (Dense)              multiple                  36        \n",
      "_________________________________________________________________\n",
      "dense_4 (Dense)              multiple                  20        \n",
      "_________________________________________________________________\n",
      "dense_5 (Dense)              multiple                  5         \n",
      "=================================================================\n",
      "Total params: 277\n",
      "Trainable params: 277\n",
      "Non-trainable params: 0\n",
      "_________________________________________________________________\n"
     ]
    }
   ],
   "source": [
    "model.summary()"
   ]
  },
  {
   "cell_type": "code",
   "execution_count": 28,
   "metadata": {},
   "outputs": [],
   "source": [
    "history = pd.DataFrame(model.history.history)"
   ]
  },
  {
   "cell_type": "code",
   "execution_count": 29,
   "metadata": {},
   "outputs": [
    {
     "data": {
      "text/plain": [
       "<matplotlib.axes._subplots.AxesSubplot at 0x170e820fac8>"
      ]
     },
     "execution_count": 29,
     "metadata": {},
     "output_type": "execute_result"
    },
    {
     "data": {
      "image/png": "[encoded data removed]",
      "text/plain": [
       "<Figure size 432x288 with 1 Axes>"
      ]
     },
     "metadata": {
      "needs_background": "light"
     },
     "output_type": "display_data"
    }
   ],
   "source": [
    "history.plot()"
   ]
  },
  {
   "cell_type": "code",
   "execution_count": 30,
   "metadata": {},
   "outputs": [],
   "source": [
    "predictions = model.predict(X_test)"
   ]
  },
  {
   "cell_type": "code",
   "execution_count": 31,
   "metadata": {},
   "outputs": [],
   "source": [
    "from sklearn.metrics import accuracy_score,classification_report"
   ]
  },
  {
   "cell_type": "code",
   "execution_count": null,
   "metadata": {},
   "outputs": [],
   "source": [
    "print(accuracy_score,)"
   ]
  }
 ],
 "metadata": {
  "kernelspec": {
   "display_name": "Python 3.7 (tensorflow)",
   "language": "python",
   "name": "tensorflow"
  },
  "language_info": {
   "codemirror_mode": {
    "name": "ipython",
    "version": 3
   },
   "file_extension": ".py",
   "mimetype": "text/x-python",
   "name": "python",
   "nbconvert_exporter": "python",
   "pygments_lexer": "ipython3",
   "version": "3.7.6"
  }
 },
 "nbformat": 4,
 "nbformat_minor": 4
}
